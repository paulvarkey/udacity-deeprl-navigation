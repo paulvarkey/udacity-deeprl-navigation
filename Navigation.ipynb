{
 "cells": [
  {
   "cell_type": "markdown",
   "metadata": {},
   "source": [
    "# Navigation Project Submission (Deep RL Course)\n",
    "\n",
    "---\n",
    "This notebook contains a submission for the Navigation Project from Udacity's DeepRL course.\n",
    "\n",
    "### 1. Imports and definitions\n",
    "\n",
    "We begin by importing some necessary packages.  If the code cell below returns an error, please revisit the project instructions to double-check that you have installed [Unity ML-Agents](https://github.com/Unity-Technologies/ml-agents/blob/master/docs/Installation.md) and [NumPy](http://www.numpy.org/)."
   ]
  },
  {
   "cell_type": "code",
   "execution_count": 1,
   "metadata": {},
   "outputs": [],
   "source": [
    "from unityagents import UnityEnvironment\n",
    "import numpy as np\n",
    "from dqn_agent import Agent\n",
    "import torch\n",
    "from collections import deque\n",
    "import matplotlib.pyplot as plt\n",
    "%matplotlib inline"
   ]
  },
  {
   "cell_type": "markdown",
   "metadata": {},
   "source": [
    "**_Before running the cells below_**,  note that the `banana_app_file_name` parameter must match the location of the Unity environment that you downloaded.\n",
    "\n",
    "- **Mac**: `\"path/to/Banana.app\"`\n",
    "- **Windows** (x86): `\"path/to/Banana_Windows_x86/Banana.exe\"`\n",
    "- **Windows** (x86_64): `\"path/to/Banana_Windows_x86_64/Banana.exe\"`\n",
    "- **Linux** (x86): `\"path/to/Banana_Linux/Banana.x86\"`\n",
    "- **Linux** (x86_64): `\"path/to/Banana_Linux/Banana.x86_64\"`\n",
    "- **Linux** (x86, headless): `\"path/to/Banana_Linux_NoVis/Banana.x86\"`\n",
    "- **Linux** (x86_64, headless): `\"path/to/Banana_Linux_NoVis/Banana.x86_64\"`\n",
    "\n",
    "For instance, if you are using a Mac, then you downloaded `Banana.app`.  If this file is in the same folder as the notebook, then the line below should appear as follows:\n",
    "```\n",
    "banana_app_file_name=\"Banana.app\"\n",
    "```\n",
    "\n",
    "Environments contain **_brains_** which are responsible for deciding the actions of their associated agents. Here we check for the first brain available, and set it as the default brain we will be controlling from Python.\n",
    "\n",
    "The simulation contains a single agent that navigates a large environment.  At each time step, it has four actions at its disposal:\n",
    "- `0` - walk forward \n",
    "- `1` - walk backward\n",
    "- `2` - turn left\n",
    "- `3` - turn right\n",
    "\n",
    "The state space has `37` dimensions and contains the agent's velocity, along with ray-based perception of objects around agent's forward direction.  A reward of `+1` is provided for collecting a yellow banana, and a reward of `-1` is provided for collecting a blue banana. \n",
    "\n",
    "Run the code cell below to print some information about the environment."
   ]
  },
  {
   "cell_type": "code",
   "execution_count": 2,
   "metadata": {},
   "outputs": [],
   "source": [
    "# IMPORTANT : ensure that path to the Banana app is correct for your environment!\n",
    "banana_app_file_name=\"/Users/paulvarkey/Documents/Value-based-methods/p1_navigation/Banana.app\""
   ]
  },
  {
   "cell_type": "code",
   "execution_count": 3,
   "metadata": {},
   "outputs": [],
   "source": [
    "class BananaDQN:\n",
    "\n",
    "    \"\"\"\n",
    "    NOTE : call <BananaDQN object>.env.close() at the end of using this class!\n",
    "    \"\"\"\n",
    "\n",
    "    def __init__(self, banana_app_file_name=\"Banana.app\"):\n",
    "        self.env = UnityEnvironment(banana_app_file_name)\n",
    "\n",
    "        # Environments contain **_brains_** which are responsible for \n",
    "        # deciding the actions of their associated agents. Here we \n",
    "        # check for the first brain available, and set it as the \n",
    "        # default brain we will be controlling from Python.\n",
    "        self.brain_name = self.env.brain_names[0]\n",
    "        self.brain = self.env.brains[self.brain_name]\n",
    "\n",
    "        # reset the environment\n",
    "        env_info = self.env.reset(train_mode=True)[self.brain_name]\n",
    "\n",
    "        # number of agents in the environment\n",
    "        self.num_agents = len(env_info.agents)\n",
    "        print('Number of agents:', self.num_agents)\n",
    "\n",
    "        # number of actions\n",
    "        self.action_size = self.brain.vector_action_space_size\n",
    "        print('Number of actions:', self.action_size)\n",
    "\n",
    "        # examine the state space \n",
    "        state = env_info.vector_observations[0]\n",
    "        print('States look like:', state)\n",
    "        self.state_size = len(state)\n",
    "        print('States have length:', self.state_size)\n",
    "\n",
    "        # create the DQN agent\n",
    "        self.agent = Agent(\n",
    "            state_size=self.state_size,\n",
    "            action_size=self.action_size, \n",
    "            seed=0\n",
    "        )\n",
    "\n",
    "    def _step(self, action):\n",
    "        \"\"\"Given an action, produce next state, reward, and done indicator.\n",
    "        \n",
    "        Note that the current state itself is tracked implictly in the \n",
    "        state of the environment. It can be retrieved before taking this action : \n",
    "        ```\n",
    "        env_info = self.env.step(action)[self.brain_name]\n",
    "        state = env_info.vector_observations[0]\n",
    "        ```\n",
    "        \"\"\"\n",
    "        env_info = self.env.step(action)[self.brain_name]  # send the action to the environment\n",
    "        next_state = env_info.vector_observations[0]       # get the next state\n",
    "        reward = env_info.rewards[0]                       # get the reward\n",
    "        done = env_info.local_done[0]                      # see if episode has finished\n",
    "        return (next_state, reward, done)\n",
    "\n",
    "    def _randomly_act(self):\n",
    "        env_info = self.env.reset(train_mode=False)[self.brain_name] # reset the environment\n",
    "        state = env_info.vector_observations[0]                      # get the current state\n",
    "        score = 0                                                    # initialize the score\n",
    "        while True:\n",
    "            action = np.random.randint(self.action_size)    # select an action\n",
    "            (next_state, reward, done) = self._step(action) # get (s,a) --> (s', r, done)\n",
    "            score += reward                                 # update the score\n",
    "            state = next_state                              # roll over the state to next time step\n",
    "            if done:                                        # exit loop if episode finished\n",
    "                break\n",
    "            \n",
    "        print(\"Score: {}\".format(score))\n",
    "\n",
    "    def dqn(\n",
    "        self,\n",
    "        n_episodes=2000,\n",
    "        max_t=1000,\n",
    "        eps_start=1.0,\n",
    "        eps_end=0.01, \n",
    "        eps_decay=0.995,\n",
    "        plot=False,\n",
    "        save_if_avg100_score_greater_than=16.7,\n",
    "    ):\n",
    "        \"\"\"Deep Q-Learning.\n",
    "        \n",
    "        Params\n",
    "        ======\n",
    "            n_episodes (int): maximum number of training episodes\n",
    "            max_t (int): maximum number of timesteps per episode\n",
    "            eps_start (float): starting value of epsilon, for epsilon-greedy action selection\n",
    "            eps_end (float): minimum value of epsilon\n",
    "            eps_decay (float): multiplicative factor (per episode) for decreasing epsilon\n",
    "        \"\"\"\n",
    "        scores = []                        # list containing scores from each episode\n",
    "        scores_window = deque(maxlen=100)  # last 100 scores\n",
    "        eps = eps_start                    # initialize epsilon\n",
    "\n",
    "        for i_episode in range(1, n_episodes+1):\n",
    "            # reset environment\n",
    "            env_info = self.env.reset(train_mode=True)[self.brain_name]\n",
    "            state = env_info.vector_observations[0] # get the current state\n",
    "\n",
    "            score = 0\n",
    "            for t in range(max_t):\n",
    "                action = self.agent.act(state, eps)\n",
    "                next_state, reward, done = self._step(action)\n",
    "                self.agent.step(state, action, reward, next_state, done)\n",
    "                state = next_state\n",
    "                score += reward\n",
    "                if done:\n",
    "                    break \n",
    "\n",
    "            scores_window.append(score)       # save most recent score\n",
    "            scores.append(score)              # save most recent score\n",
    "            eps = max(eps_end, eps_decay*eps) # decrease epsilon\n",
    "            print('\\rEpisode {}\\tAverage Score: {:.2f}'.format(i_episode, np.mean(scores_window)), end=\"\")\n",
    "            if i_episode % 100 == 0:\n",
    "                print('\\rEpisode {}\\tAverage Score: {:.2f}'.format(i_episode, np.mean(scores_window)))\n",
    "            if np.mean(scores_window)>=save_if_avg100_score_greater_than:\n",
    "                print('\\nEnvironment solved in {:d} episodes!\\tAverage Score: {:.2f}'.format(i_episode-100, np.mean(scores_window)))\n",
    "                torch.save(self.agent.qnetwork_local.state_dict(), 'checkpoint.pth')\n",
    "                break\n",
    "\n",
    "        # optionally, plot the scores\n",
    "        if plot:\n",
    "            fig = plt.figure()\n",
    "            ax = fig.add_subplot(111)\n",
    "            plt.plot(np.arange(len(scores)), scores)\n",
    "            plt.ylabel('Score')\n",
    "            plt.xlabel('Episode #')\n",
    "            plt.show()\n",
    "\n",
    "        return scores\n",
    "    \n",
    "    def viz_agent_load_trained_checkpoint(\n",
    "        self,\n",
    "        checkpoint_path = \"checkpoint.pth\",\n",
    "        num_episodes = 10,\n",
    "    ):\n",
    "        # load the weights from file\n",
    "        self.agent.qnetwork_local.load_state_dict(torch.load(checkpoint_path))\n",
    "\n",
    "        episode_score_total = 0\n",
    "\n",
    "        for e_idx in range(num_episodes):\n",
    "\n",
    "            env_info = self.env.reset(train_mode=False)[self.brain_name] # reset the environment\n",
    "            state = env_info.vector_observations[0]                      # get the current state\n",
    "\n",
    "            score = 0\n",
    "            step_idx = 0 \n",
    "            while True:\n",
    "                step_idx += 1\n",
    "                action = self.agent.act(state)\n",
    "                (next_state, reward, done) = self._step(action) # get (s,a) --> (s', r, done)\n",
    "                score += reward                                 # update the score\n",
    "                state = next_state                              # roll over the state to next time step\n",
    "                if step_idx % 100 == 0:\n",
    "                    print(f\"step_idx={step_idx}, score={score}\")\n",
    "                if done:                                        # exit loop if episode finished\n",
    "                    break\n",
    "            \n",
    "            episode_score_total += score\n",
    "            print(f\"Episode {e_idx + 1} Score: {score}\")\n",
    "\n",
    "        print(f\"Average score across {num_episodes} episodes = {float(episode_score_total)/num_episodes}\")"
   ]
  },
  {
   "cell_type": "code",
   "execution_count": 4,
   "metadata": {},
   "outputs": [
    {
     "name": "stderr",
     "output_type": "stream",
     "text": [
      "INFO:unityagents:\n",
      "'Academy' started successfully!\n",
      "Unity Academy name: Academy\n",
      "        Number of Brains: 1\n",
      "        Number of External Brains : 1\n",
      "        Lesson number : 0\n",
      "        Reset Parameters :\n",
      "\t\t\n",
      "Unity brain name: BananaBrain\n",
      "        Number of Visual Observations (per agent): 0\n",
      "        Vector Observation space type: continuous\n",
      "        Vector Observation space size (per agent): 37\n",
      "        Number of stacked Vector Observation: 1\n",
      "        Vector Action space type: discrete\n",
      "        Vector Action space size (per agent): 4\n",
      "        Vector Action descriptions: , , , \n"
     ]
    },
    {
     "name": "stdout",
     "output_type": "stream",
     "text": [
      "Number of agents: 1\n",
      "Number of actions: 4\n",
      "States look like: [1.         0.         0.         0.         0.84408134 0.\n",
      " 0.         1.         0.         0.0748472  0.         1.\n",
      " 0.         0.         0.25755    1.         0.         0.\n",
      " 0.         0.74177343 0.         1.         0.         0.\n",
      " 0.25854847 0.         0.         1.         0.         0.09355672\n",
      " 0.         1.         0.         0.         0.31969345 0.\n",
      " 0.        ]\n",
      "States have length: 37\n"
     ]
    }
   ],
   "source": [
    "# IMPORTANT : ensure that path to the Banana app is correct for your environment!\n",
    "banana_dqn = BananaDQN(banana_app_file_name=banana_app_file_name)"
   ]
  },
  {
   "cell_type": "markdown",
   "metadata": {},
   "source": [
    "### 2. [Optional] Take Random Actions in the Environment\n",
    "\n",
    "Watch the agent's performance, as it selects an action (uniformly) at random with each time step.  A window should pop up that allows you to observe the agent, as it moves through the environment."
   ]
  },
  {
   "cell_type": "code",
   "execution_count": null,
   "metadata": {},
   "outputs": [],
   "source": [
    "# banana_dqn._randomly_act()"
   ]
  },
  {
   "cell_type": "markdown",
   "metadata": {},
   "source": [
    "### 3. [Optional] Train using DQN\n",
    "\n",
    "If you choose to train, you may uncomment, and optionally choose to change the hyperparameters below. The default values are quite good already. You can also choose to change the `save_if_avg100_score_greater_than` parameter to ensure that checkpoints are written out, if the average score over the last 100 episodes is greater than the score attained by the model checkpointed into checkpoint.pth. The default corresponds to the best obtained with the default hyperparameters."
   ]
  },
  {
   "cell_type": "code",
   "execution_count": null,
   "metadata": {},
   "outputs": [
    {
     "name": "stdout",
     "output_type": "stream",
     "text": [
      "Episode 100\tAverage Score: 1.23\n",
      "Episode 200\tAverage Score: 4.78\n",
      "Episode 300\tAverage Score: 8.07\n",
      "Episode 400\tAverage Score: 10.94\n",
      "Episode 500\tAverage Score: 12.40\n",
      "Episode 600\tAverage Score: 13.86\n",
      "Episode 700\tAverage Score: 14.79\n",
      "Episode 800\tAverage Score: 15.16\n",
      "Episode 900\tAverage Score: 15.21\n",
      "Episode 1000\tAverage Score: 15.53\n",
      "Episode 1100\tAverage Score: 15.89\n",
      "Episode 1146\tAverage Score: 16.57\n",
      "Environment solved in 1046 episodes!\tAverage Score: 16.57\n"
     ]
    },
    {
     "data": {
      "image/png": "[encoded data removed]",
      "text/plain": [
       "<Figure size 432x288 with 1 Axes>"
      ]
     },
     "metadata": {
      "needs_background": "light"
     },
     "output_type": "display_data"
    }
   ],
   "source": [
    "# scores = banana_dqn.dqn(\n",
    "#     n_episodes=2000,\n",
    "#     max_t=1000,\n",
    "#     eps_start=1.0,\n",
    "#     eps_end=0.01, \n",
    "#     eps_decay=0.995,\n",
    "#     plot=True,\n",
    "#     save_if_avg100_score_greater_than=16.5,\n",
    "# )"
   ]
  },
  {
   "cell_type": "markdown",
   "metadata": {},
   "source": [
    "### 4. [Optional] Load checkpoint and visualize"
   ]
  },
  {
   "cell_type": "code",
   "execution_count": 6,
   "metadata": {},
   "outputs": [
    {
     "name": "stdout",
     "output_type": "stream",
     "text": [
      "step_idx=100, score=7.0\n",
      "step_idx=200, score=10.0\n",
      "step_idx=300, score=18.0\n",
      "Episode 1 Score: 18.0\n",
      "step_idx=100, score=9.0\n",
      "step_idx=200, score=14.0\n",
      "step_idx=300, score=14.0\n",
      "Episode 2 Score: 14.0\n",
      "step_idx=100, score=4.0\n",
      "step_idx=200, score=9.0\n",
      "step_idx=300, score=13.0\n",
      "Episode 3 Score: 13.0\n",
      "step_idx=100, score=8.0\n",
      "step_idx=200, score=15.0\n",
      "step_idx=300, score=20.0\n",
      "Episode 4 Score: 20.0\n",
      "step_idx=100, score=7.0\n",
      "step_idx=200, score=16.0\n",
      "step_idx=300, score=20.0\n",
      "Episode 5 Score: 20.0\n",
      "step_idx=100, score=1.0\n",
      "step_idx=200, score=1.0\n",
      "step_idx=300, score=1.0\n",
      "Episode 6 Score: 1.0\n",
      "step_idx=100, score=4.0\n",
      "step_idx=200, score=10.0\n",
      "step_idx=300, score=17.0\n",
      "Episode 7 Score: 17.0\n",
      "step_idx=100, score=4.0\n",
      "step_idx=200, score=8.0\n",
      "step_idx=300, score=12.0\n",
      "Episode 8 Score: 12.0\n",
      "step_idx=100, score=4.0\n",
      "step_idx=200, score=5.0\n",
      "step_idx=300, score=15.0\n",
      "Episode 9 Score: 15.0\n",
      "step_idx=100, score=6.0\n",
      "step_idx=200, score=12.0\n",
      "step_idx=300, score=18.0\n",
      "Episode 10 Score: 18.0\n",
      "Average score across 10 episodes = 14.8\n"
     ]
    }
   ],
   "source": [
    "banana_dqn.viz_agent_load_trained_checkpoint()"
   ]
  },
  {
   "cell_type": "markdown",
   "metadata": {},
   "source": [
    "### Close the environment, when done!"
   ]
  },
  {
   "cell_type": "markdown",
   "metadata": {},
   "source": [
    "When finished, you can close the environment."
   ]
  },
  {
   "cell_type": "code",
   "execution_count": 7,
   "metadata": {},
   "outputs": [],
   "source": [
    "banana_dqn.env.close()"
   ]
  },
  {
   "cell_type": "code",
   "execution_count": null,
   "metadata": {},
   "outputs": [],
   "source": []
  }
 ],
 "metadata": {
  "kernelspec": {
   "display_name": "py36-drlnd",
   "language": "python",
   "name": "py36"
  },
  "language_info": {
   "codemirror_mode": {
    "name": "ipython",
    "version": 3
   },
   "file_extension": ".py",
   "mimetype": "text/x-python",
   "name": "python",
   "nbconvert_exporter": "python",
   "pygments_lexer": "ipython3",
   "version": "3.6.15"
  }
 },
 "nbformat": 4,
 "nbformat_minor": 2
}
